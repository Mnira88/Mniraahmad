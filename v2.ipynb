{
 "cells": [
  {
   "cell_type": "code",
   "execution_count": null,
   "id": "9100600d",
   "metadata": {},
   "outputs": [],
   "source": [
    "import numpy as np\n",
    "import pandas as pd\n",
    "import re #regular expression\n",
    "from nltk.corpus import stopwords\n",
    "from nltk.stem.porter import PorterStemmer\n",
    "from sklearn.feature_extraction.text import TfidfVectorizer\n",
    "from sklearn.model_selection import train_test_split\n",
    "from sklearn.metrics import accuracy_score"
   ]
  },
  {
   "cell_type": "code",
   "execution_count": null,
   "id": "9fa48aa6",
   "metadata": {},
   "outputs": [],
   "source": [
    "from nltk.corpus import stopwords"
   ]
  },
  {
   "cell_type": "code",
   "execution_count": null,
   "id": "72de09a3",
   "metadata": {},
   "outputs": [],
   "source": [
    "import nltk\n",
    "nltk.download('stopwords')"
   ]
  },
  {
   "cell_type": "code",
   "execution_count": null,
   "id": "2db2ea7e",
   "metadata": {},
   "outputs": [],
   "source": [
    "#printing stopwords in english (stopwords doesnt add any meaning )\n",
    "print(stopwords.words('english'))"
   ]
  },
  {
   "cell_type": "code",
   "execution_count": null,
   "id": "a70045f1",
   "metadata": {},
   "outputs": [],
   "source": [
    "#loading data from csv file to pandas dataframe\n",
    "\n",
    "dataset = pd.read_csv('dataset.csv', encoding = 'ISO-8859-1')"
   ]
  },
  {
   "cell_type": "code",
   "execution_count": null,
   "id": "4ed0b614",
   "metadata": {},
   "outputs": [],
   "source": [
    "#checking no of rows and columns(rows=total no of tweets)\n",
    "dataset.shape"
   ]
  },
  {
   "cell_type": "code",
   "execution_count": null,
   "id": "d3867875",
   "metadata": {},
   "outputs": [],
   "source": [
    "#printing first five rows of the dataframe\n",
    "dataset.head()"
   ]
  },
  {
   "cell_type": "code",
   "execution_count": null,
   "id": "0f43dd61",
   "metadata": {},
   "outputs": [],
   "source": [
    "#naming columns and readng ds again\n",
    "\n",
    "dataset_column_names = ['target','id','date','flag','user','text']\n",
    "dataset = pd.read_csv('dataset.csv',names = dataset_column_names, encoding = 'ISO-8859-1')"
   ]
  },
  {
   "cell_type": "code",
   "execution_count": null,
   "id": "1b126a89",
   "metadata": {},
   "outputs": [],
   "source": [
    "dataset.shape"
   ]
  },
  {
   "cell_type": "code",
   "execution_count": null,
   "id": "a698b63d",
   "metadata": {},
   "outputs": [],
   "source": [
    "dataset.head()"
   ]
  },
  {
   "cell_type": "code",
   "execution_count": null,
   "id": "6503e6d3",
   "metadata": {},
   "outputs": [],
   "source": [
    "#check missing values\n",
    "dataset.isnull().sum()"
   ]
  },
  {
   "cell_type": "code",
   "execution_count": null,
   "id": "c46bca1d",
   "metadata": {},
   "outputs": [],
   "source": [
    "#checking distribution of target column\n",
    "\n",
    "dataset['target'].value_counts()"
   ]
  },
  {
   "cell_type": "code",
   "execution_count": null,
   "id": "a74cffbb",
   "metadata": {},
   "outputs": [],
   "source": [
    "#CONVERT TARGET 4 TO 1\n",
    "dataset.replace({'target':{4:1}}, inplace=True)"
   ]
  },
  {
   "cell_type": "code",
   "execution_count": null,
   "id": "b14ecf31",
   "metadata": {},
   "outputs": [],
   "source": [
    "dataset['target'].value_counts()"
   ]
  },
  {
   "cell_type": "code",
   "execution_count": null,
   "id": "6ac0f571",
   "metadata": {},
   "outputs": [],
   "source": [
    "#0 -- NEGATIVE TWEET, 1-- POSITIVE TWEET\n",
    "\n",
    "#STEMMING - PROCESS OF REDUCING WORD TO ITS KEYWORD(ROOTWORD)\n",
    "port_stem = PorterStemmer()"
   ]
  },
  {
   "cell_type": "code",
   "execution_count": null,
   "id": "9853134c",
   "metadata": {},
   "outputs": [],
   "source": [
    "def stemming(content):\n",
    "  stemmed_content = re.sub('[^a-zA-Z]',' ',content)\n",
    "  stemmed_content = stemmed_content.lower()\n",
    "  stemmed_content = stemmed_content.split()\n",
    "  stemmed_content = [port_stem.stem(word) for word in stemmed_content if not word in stopwords.words('english')]\n",
    "  stemmed_content = ' '.join(stemmed_content)\n",
    "\n",
    "  return stemmed_content"
   ]
  },
  {
   "cell_type": "code",
   "execution_count": null,
   "id": "9e318690",
   "metadata": {},
   "outputs": [],
   "source": [
    "dataset['stemmed_content'] = dataset['text'].apply(stemming)"
   ]
  },
  {
   "cell_type": "code",
   "execution_count": null,
   "id": "bab95a27",
   "metadata": {},
   "outputs": [],
   "source": [
    "dataset.head()"
   ]
  },
  {
   "cell_type": "code",
   "execution_count": null,
   "id": "a0f966ff",
   "metadata": {},
   "outputs": [],
   "source": [
    "print(dataset['stemmed_content'])"
   ]
  },
  {
   "cell_type": "code",
   "execution_count": null,
   "id": "f3921246",
   "metadata": {},
   "outputs": [],
   "source": [
    "print(dataset['target'])"
   ]
  },
  {
   "cell_type": "code",
   "execution_count": null,
   "id": "b2d1b48f",
   "metadata": {},
   "outputs": [],
   "source": [
    "#seperation\n",
    "X_twitter = dataset['stemmed_content'].values\n",
    "Y_twitter = dataset['target'].values"
   ]
  },
  {
   "cell_type": "code",
   "execution_count": null,
   "id": "76915b8d",
   "metadata": {},
   "outputs": [],
   "source": [
    "print(X_twitter)"
   ]
  },
  {
   "cell_type": "code",
   "execution_count": null,
   "id": "86dcf874",
   "metadata": {},
   "outputs": [],
   "source": [
    "print(Y_twitter)"
   ]
  },
  {
   "cell_type": "code",
   "execution_count": null,
   "id": "99591157",
   "metadata": {},
   "outputs": [],
   "source": [
    "#Spitting data to training and test data\n",
    "\n",
    "X_train, X_test, Y_train, Y_test = train_test_split(X_twitter, Y_twitter, test_size=0.2, stratify=Y_twitter, random_state=2)"
   ]
  },
  {
   "cell_type": "code",
   "execution_count": null,
   "id": "c5b43397",
   "metadata": {},
   "outputs": [],
   "source": [
    "print(X.shape, X_train.shape, X_test.shape)"
   ]
  },
  {
   "cell_type": "code",
   "execution_count": null,
   "id": "fb442b95",
   "metadata": {},
   "outputs": [],
   "source": [
    "#feature_extraction(text data to numeric data)\n",
    "\n",
    "vectorizer = TfidfVectorizer()\n",
    "\n",
    "X_train = vectorizer.fit_transform(X_train)\n",
    "X_test = vectorizer.transform(X_test)"
   ]
  },
  {
   "cell_type": "code",
   "execution_count": null,
   "id": "a1b7d64c",
   "metadata": {},
   "outputs": [],
   "source": [
    "print(X_train)"
   ]
  },
  {
   "cell_type": "code",
   "execution_count": null,
   "id": "26498ef5",
   "metadata": {},
   "outputs": [],
   "source": []
  },
  {
   "cell_type": "code",
   "execution_count": null,
   "id": "84e9a5fb",
   "metadata": {},
   "outputs": [],
   "source": []
  },
  {
   "cell_type": "code",
   "execution_count": null,
   "id": "21b43a4f",
   "metadata": {},
   "outputs": [],
   "source": []
  }
 ],
 "metadata": {
  "kernelspec": {
   "display_name": "Python 3 (ipykernel)",
   "language": "python",
   "name": "python3"
  },
  "language_info": {
   "codemirror_mode": {
    "name": "ipython",
    "version": 3
   },
   "file_extension": ".py",
   "mimetype": "text/x-python",
   "name": "python",
   "nbconvert_exporter": "python",
   "pygments_lexer": "ipython3",
   "version": "3.11.4"
  }
 },
 "nbformat": 4,
 "nbformat_minor": 5
}
