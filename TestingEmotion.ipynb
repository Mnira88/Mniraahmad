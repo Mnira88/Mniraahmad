{
 "cells": [
  {
   "cell_type": "code",
   "execution_count": 1,
   "id": "4b138e42",
   "metadata": {},
   "outputs": [
    {
     "name": "stdout",
     "output_type": "stream",
     "text": [
      "WARNING:tensorflow:From C:\\Users\\mnira\\anaconda3\\Lib\\site-packages\\keras\\src\\losses.py:2976: The name tf.losses.sparse_softmax_cross_entropy is deprecated. Please use tf.compat.v1.losses.sparse_softmax_cross_entropy instead.\n",
      "\n"
     ]
    }
   ],
   "source": [
    "import numpy as np\n",
    "import pandas as pd\n",
    "import gensim\n",
    "from gensim.utils import simple_preprocess\n",
    "from gensim.models import Word2Vec\n",
    "import nltk\n",
    "from nltk import sent_tokenize\n",
    "import spacy\n",
    "import string\n",
    "import pickle\n",
    "from sklearn.model_selection import train_test_split\n",
    "from sklearn.feature_extraction.text import TfidfVectorizer\n",
    "import mysql.connector\n",
    "import datetime\n",
    "import time\n",
    "from keras.models import load_model\n",
    "import tensorflow as tf\n",
    "from keras.preprocessing.sequence import pad_sequences"
   ]
  },
  {
   "cell_type": "code",
   "execution_count": 2,
   "id": "d9339e5f",
   "metadata": {},
   "outputs": [
    {
     "name": "stdout",
     "output_type": "stream",
     "text": [
      "WARNING:tensorflow:From C:\\Users\\mnira\\anaconda3\\Lib\\site-packages\\keras\\src\\backend.py:1398: The name tf.executing_eagerly_outside_functions is deprecated. Please use tf.compat.v1.executing_eagerly_outside_functions instead.\n",
      "\n"
     ]
    }
   ],
   "source": [
    "model = load_model('model.h5')"
   ]
  },
  {
   "cell_type": "code",
   "execution_count": 3,
   "id": "d692936d",
   "metadata": {},
   "outputs": [
    {
     "name": "stderr",
     "output_type": "stream",
     "text": [
      "C:\\Users\\mnira\\anaconda3\\Lib\\site-packages\\sklearn\\base.py:347: InconsistentVersionWarning: Trying to unpickle estimator LabelEncoder from version 1.2.2 when using version 1.3.0. This might lead to breaking code or invalid results. Use at your own risk. For more info please refer to:\n",
      "https://scikit-learn.org/stable/model_persistence.html#security-maintainability-limitations\n",
      "  warnings.warn(\n"
     ]
    }
   ],
   "source": [
    "# Load the vectorizer\n",
    "tokenizerN = 'tokenizer.pkl'\n",
    "tokenizer = pickle.load(open(tokenizerN, 'rb'))\n",
    "# Load the vectorizer\n",
    "encoderN = 'encoder.pkl'\n",
    "encoder = pickle.load(open(encoderN, 'rb'))"
   ]
  },
  {
   "cell_type": "code",
   "execution_count": 4,
   "id": "7a747a8d",
   "metadata": {},
   "outputs": [],
   "source": [
    "POSITIVE = \"POSITIVE\"\n",
    "NEGATIVE = \"NEGATIVE\"\n",
    "NEUTRAL = \"NEUTRAL\"\n",
    "SENTIMENT_THRESHOLDS = (0.4, 0.7)"
   ]
  },
  {
   "cell_type": "code",
   "execution_count": 5,
   "id": "c4947cf7",
   "metadata": {},
   "outputs": [],
   "source": [
    "def decode_sentiment(score, include_neutral=True):\n",
    "    if include_neutral:        \n",
    "        label = NEUTRAL\n",
    "        if score <= SENTIMENT_THRESHOLDS[0]:\n",
    "            label = NEGATIVE\n",
    "        elif score >= SENTIMENT_THRESHOLDS[1]:\n",
    "            label = POSITIVE\n",
    "\n",
    "        return label\n",
    "    else:\n",
    "        return NEGATIVE if score < 0.5 else POSITIVE"
   ]
  },
  {
   "cell_type": "code",
   "execution_count": 6,
   "id": "36180716",
   "metadata": {},
   "outputs": [],
   "source": [
    "def predict(text, include_neutral=True):\n",
    "    start_at = time.time()\n",
    "    # Tokenize text\n",
    "    x_test = pad_sequences(tokenizer.texts_to_sequences([text]), maxlen=300)\n",
    "    # Predict\n",
    "    score = model.predict([x_test])[0]\n",
    "    # Decode sentiment\n",
    "    label = decode_sentiment(score, include_neutral=include_neutral)\n",
    "\n",
    "    return {\"label\": label, \"score\": float(score),\n",
    "       \"elapsed_time\": time.time()-start_at}  "
   ]
  },
  {
   "cell_type": "markdown",
   "id": "acc4d69a",
   "metadata": {},
   "source": [
    "# Main loop\n",
    "while True:\n",
    "    delay = 2\n",
    "    now = datetime.datetime.now()\n",
    "    date_time = now.strftime(\"%D/%M/%Y %H:%M:%S\")\n",
    "    print(date_time)\n",
    "    time.sleep(2)\n",
    "    try:\n",
    "        # Connect to the database\n",
    "        mydb = mysql.connector.connect(\n",
    "            host=\"localhost\",\n",
    "            port=\"3306\",\n",
    "            user=\"root\",\n",
    "            password=\"\",\n",
    "            database=\"emotions\"\n",
    "        )\n",
    "        MyCursor1 = mydb.cursor()\n",
    "        \n",
    "        # Fetch records with status=0\n",
    "        Sql_Query1 = \"SELECT `id`, `content`, `result` FROM `posts` WHERE `status` = 0 ;\"\n",
    "        MyCursor1.execute(Sql_Query1)\n",
    "        record1 = MyCursor1.fetchall()\n",
    "        mydb.commit()\n",
    "        MyCursor1.close()\n",
    "        print(\"MyCursor1\")\n",
    "        \n",
    "        if record1:\n",
    "            for row in record1:\n",
    "                rowID = row[0]\n",
    "                rowID1 = str(rowID)\n",
    "                print(rowID1)\n",
    "                rowQuestion1 = row[1]\n",
    "                \n",
    "                if rowQuestion1:\n",
    "                    msg_bullying = rowQuestion1.lower()\n",
    "                    \n",
    "                    # Apply vectorizer and predict\n",
    "                    res_bullying = predict(msg_bullying)\n",
    "                    result = res_bullying[\"label\"]\n",
    "                    print('res_bullying',result)                    \n",
    "                    print(\"XXXXXXXXXXX\")\n",
    "                    \n",
    "                    if res_bullying is not None:\n",
    "                        # Update record with the predicted result and set status=1\n",
    "                        MyCursor2 = mydb.cursor()\n",
    "                        Sql_Query2 = f\"UPDATE `posts` SET `status` = 1, `result`='{result}' WHERE `id`= {rowID1};\"\n",
    "                        MyCursor2.execute(Sql_Query2)\n",
    "                        mydb.commit()\n",
    "                        MyCursor2.close()\n",
    "                        print(\"MyCursor2\")\n",
    "                    else:\n",
    "                        print(\"No result\")\n",
    "                else:\n",
    "                    print(\"Invalid input: rowQuestion1 is None\")\n",
    "        else:\n",
    "            print(\"No records found.\")\n",
    "        \n",
    "        mydb.close()\n",
    "        print(\"End step\")\n",
    "    except Exception as e:\n",
    "        print(e)"
   ]
  },
  {
   "cell_type": "code",
   "execution_count": null,
   "id": "fe5b1964",
   "metadata": {},
   "outputs": [],
   "source": []
  },
  {
   "cell_type": "code",
   "execution_count": null,
   "id": "ca8ecc84",
   "metadata": {},
   "outputs": [],
   "source": []
  },
  {
   "cell_type": "code",
   "execution_count": null,
   "id": "d6f63663",
   "metadata": {},
   "outputs": [],
   "source": []
  }
 ],
 "metadata": {
  "kernelspec": {
   "display_name": "Python 3 (ipykernel)",
   "language": "python",
   "name": "python3"
  },
  "language_info": {
   "codemirror_mode": {
    "name": "ipython",
    "version": 3
   },
   "file_extension": ".py",
   "mimetype": "text/x-python",
   "name": "python",
   "nbconvert_exporter": "python",
   "pygments_lexer": "ipython3",
   "version": "3.11.4"
  }
 },
 "nbformat": 4,
 "nbformat_minor": 5
}
